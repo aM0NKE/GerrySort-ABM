{
 "cells": [
  {
   "cell_type": "markdown",
   "metadata": {},
   "source": [
    "**[SOURCE]:** https://gerrychain.readthedocs.io/en/latest/user/recom/\n",
    "\n",
    "## A Simple Recom Chain"
   ]
  },
  {
   "cell_type": "code",
   "execution_count": 27,
   "metadata": {},
   "outputs": [],
   "source": [
    "import matplotlib.pyplot as plt\n",
    "from gerrychain import (Partition, Graph, MarkovChain,\n",
    "                        updaters, constraints, accept)\n",
    "from gerrychain.proposals import recom\n",
    "from gerrychain.constraints import contiguous\n",
    "from functools import partial\n",
    "import pandas\n",
    "from tqdm import tqdm\n",
    "\n",
    "# Set the random seed so that the results are reproducible!\n",
    "import random\n",
    "random.seed(42)"
   ]
  },
  {
   "cell_type": "code",
   "execution_count": 28,
   "metadata": {},
   "outputs": [],
   "source": [
    "graph = Graph.from_json(\"../data/gerrymandria.json\")\n",
    "\n",
    "my_updaters = {\n",
    "    \"population\": updaters.Tally(\"TOTPOP\"),\n",
    "    \"cut_edges\": updaters.cut_edges\n",
    "}\n",
    "\n",
    "initial_partition = Partition(\n",
    "    graph,\n",
    "    assignment=\"district\",\n",
    "    updaters=my_updaters\n",
    ")"
   ]
  },
  {
   "cell_type": "code",
   "execution_count": 29,
   "metadata": {},
   "outputs": [],
   "source": [
    "# This should be 8 since each district has 1 person in it.\n",
    "# Note that the key \"population\" corresponds to the population updater\n",
    "# that we defined above and not with the population column in the json file.\n",
    "ideal_population = sum(initial_partition[\"population\"].values()) / len(initial_partition)\n",
    "\n",
    "proposal = partial(\n",
    "    recom,\n",
    "    pop_col=\"TOTPOP\",\n",
    "    pop_target=ideal_population,\n",
    "    epsilon=0.01,\n",
    "    node_repeats=2\n",
    ")"
   ]
  },
  {
   "cell_type": "code",
   "execution_count": 30,
   "metadata": {},
   "outputs": [],
   "source": [
    "recom_chain = MarkovChain(\n",
    "    proposal=proposal,\n",
    "    constraints=[contiguous],\n",
    "    accept=accept.always_accept,\n",
    "    initial_state=initial_partition,\n",
    "    total_steps=20\n",
    ")"
   ]
  },
  {
   "cell_type": "code",
   "execution_count": 31,
   "metadata": {},
   "outputs": [
    {
     "name": "stdout",
     "output_type": "stream",
     "text": [
      "Finished step 20/20\r"
     ]
    }
   ],
   "source": [
    "assignment_list = []\n",
    "\n",
    "for i, item in enumerate(recom_chain):\n",
    "    print(f\"Finished step {i+1}/{len(recom_chain)}\", end=\"\\r\")\n",
    "    assignment_list.append(item.assignment)"
   ]
  },
  {
   "cell_type": "code",
   "execution_count": 32,
   "metadata": {},
   "outputs": [
    {
     "data": {
      "application/vnd.jupyter.widget-view+json": {
       "model_id": "37c8a2bc87ab4ef984d98b699837412b",
       "version_major": 2,
       "version_minor": 0
      },
      "text/plain": [
       "interactive(children=(IntSlider(value=0, description='Frame:', layout=Layout(width='500px'), max=19), Output()…"
      ]
     },
     "execution_count": 32,
     "metadata": {},
     "output_type": "execute_result"
    }
   ],
   "source": [
    "%matplotlib inline\n",
    "import matplotlib_inline.backend_inline\n",
    "import matplotlib.cm as mcm\n",
    "import matplotlib.pyplot as plt\n",
    "import networkx as nx\n",
    "from PIL import Image\n",
    "import io\n",
    "import ipywidgets as widgets\n",
    "from IPython.display import display, clear_output\n",
    "\n",
    "frames = []\n",
    "\n",
    "for i in range(len(assignment_list)):\n",
    "    fig, ax = plt.subplots(figsize=(8,8))\n",
    "    pos = {node :(data['x'],data['y']) for node, data in graph.nodes(data=True)}\n",
    "    node_colors = [mcm.tab20(int(assignment_list[i][node]) % 20) for node in graph.nodes()]\n",
    "    node_labels = {node: str(assignment_list[i][node]) for node in graph.nodes()}\n",
    "\n",
    "    nx.draw_networkx_nodes(graph, pos, node_color=node_colors)\n",
    "    nx.draw_networkx_edges(graph, pos)\n",
    "    nx.draw_networkx_labels(graph, pos, labels=node_labels)\n",
    "    plt.axis('off')\n",
    "\n",
    "    buffer = io.BytesIO()\n",
    "    plt.savefig(buffer, format='png')\n",
    "    buffer.seek(0)\n",
    "    image = Image.open(buffer)\n",
    "    frames.append(image)\n",
    "    plt.close(fig)\n",
    "\n",
    "def show_frame(idx):\n",
    "    clear_output(wait=True)\n",
    "    display(frames[idx])\n",
    "\n",
    "slider = widgets.IntSlider(value=0, min=0, max=len(frames)-1, step=1, description='Frame:')\n",
    "slider.layout.width = '500px'\n",
    "widgets.interactive(show_frame, idx=slider)"
   ]
  },
  {
   "cell_type": "markdown",
   "metadata": {},
   "source": [
    "## Region-Aware ReCom"
   ]
  },
  {
   "cell_type": "code",
   "execution_count": 35,
   "metadata": {},
   "outputs": [],
   "source": [
    "recom_chain = MarkovChain(\n",
    "    proposal=proposal,\n",
    "    constraints=[contiguous],\n",
    "    accept=accept.always_accept,\n",
    "    initial_state=initial_partition,\n",
    "    total_steps=10000\n",
    ")"
   ]
  },
  {
   "cell_type": "code",
   "execution_count": 36,
   "metadata": {},
   "outputs": [
    {
     "name": "stdout",
     "output_type": "stream",
     "text": [
      "Finished step 8/20\r"
     ]
    },
    {
     "name": "stderr",
     "output_type": "stream",
     "text": [
      "/opt/homebrew/lib/python3.11/site-packages/gerrychain/proposals/tree_proposals.py:107: ValueWarning: \n",
      "The sum of the weights in the weight dictionary is greater than 1.\n",
      "Please consider normalizing the weights.\n",
      "  warnings.warn(\n"
     ]
    },
    {
     "name": "stdout",
     "output_type": "stream",
     "text": [
      "Finished step 20/20\r"
     ]
    }
   ],
   "source": [
    "from gerrychain import (Partition, Graph, MarkovChain,\n",
    "                        updaters, constraints, accept)\n",
    "from gerrychain.proposals import recom\n",
    "from gerrychain.tree import bipartition_tree\n",
    "from gerrychain.constraints import contiguous\n",
    "from functools import partial\n",
    "import random\n",
    "random.seed(42)\n",
    "\n",
    "graph = Graph.from_json(\"../data/gerrymandria.json\")\n",
    "\n",
    "my_updaters = {\n",
    "    \"population\": updaters.Tally(\"TOTPOP\"),\n",
    "    \"cut_edges\": updaters.cut_edges\n",
    "}\n",
    "\n",
    "initial_partition = Partition(\n",
    "    graph,\n",
    "    assignment=\"district\",\n",
    "    updaters=my_updaters\n",
    ")\n",
    "\n",
    "ideal_population = sum(initial_partition[\"population\"].values()) / len(initial_partition)\n",
    "\n",
    "method = partial(bipartition_tree, allow_pair_reselection=True)\n",
    "\n",
    "proposal = partial(\n",
    "    recom,\n",
    "    pop_col=\"TOTPOP\",\n",
    "    pop_target=ideal_population,\n",
    "    epsilon=0.01,\n",
    "    node_repeats=1,\n",
    "    weight_dict={\"muni\": 1.0, \"water_dist\": 1.0},\n",
    "    method=method\n",
    ")\n",
    "\n",
    "recom_chain = MarkovChain(\n",
    "    proposal=proposal,\n",
    "    constraints=[contiguous],\n",
    "    accept=accept.always_accept,\n",
    "    initial_state=initial_partition,\n",
    "    total_steps=20\n",
    ")\n",
    "\n",
    "assignment_list = []\n",
    "\n",
    "for i, item in enumerate(recom_chain):\n",
    "    print(f\"Finished step {i + 1}/{len(recom_chain)}\", end=\"\\r\")\n",
    "    assignment_list.append(item.assignment)"
   ]
  },
  {
   "cell_type": "code",
   "execution_count": null,
   "metadata": {},
   "outputs": [],
   "source": []
  },
  {
   "cell_type": "markdown",
   "metadata": {},
   "source": [
    "## A Real-World Example"
   ]
  },
  {
   "cell_type": "code",
   "execution_count": 49,
   "metadata": {},
   "outputs": [],
   "source": [
    "import matplotlib.pyplot as plt\n",
    "from gerrychain import (GeographicPartition, Partition, Graph, MarkovChain,\n",
    "                        proposals, updaters, constraints, accept, Election)\n",
    "from gerrychain.proposals import recom\n",
    "from functools import partial\n",
    "import pandas"
   ]
  },
  {
   "cell_type": "code",
   "execution_count": 51,
   "metadata": {},
   "outputs": [
    {
     "ename": "AttributeError",
     "evalue": "type object 'Graph' has no attribute 'from_shp'",
     "output_type": "error",
     "traceback": [
      "\u001b[0;31m---------------------------------------------------------------------------\u001b[0m",
      "\u001b[0;31mAttributeError\u001b[0m                            Traceback (most recent call last)",
      "Cell \u001b[0;32mIn[51], line 1\u001b[0m\n\u001b[0;32m----> 1\u001b[0m graph \u001b[38;5;241m=\u001b[39m \u001b[43mGraph\u001b[49m\u001b[38;5;241;43m.\u001b[39;49m\u001b[43mfrom_shp\u001b[49m(\u001b[38;5;124m\"\u001b[39m\u001b[38;5;124m../data/TX_vtds/TX_vtds.shp\u001b[39m\u001b[38;5;124m\"\u001b[39m)\n",
      "\u001b[0;31mAttributeError\u001b[0m: type object 'Graph' has no attribute 'from_shp'"
     ]
    }
   ],
   "source": [
    "graph = Graph.from_json(\"../data/PA_VTDs.json\")"
   ]
  },
  {
   "cell_type": "code",
   "execution_count": 39,
   "metadata": {},
   "outputs": [],
   "source": [
    "elections = [\n",
    "    Election(\"SEN10\", {\"Democratic\": \"SEN10D\", \"Republican\": \"SEN10R\"}),\n",
    "    Election(\"SEN12\", {\"Democratic\": \"USS12D\", \"Republican\": \"USS12R\"}),\n",
    "    Election(\"SEN16\", {\"Democratic\": \"T16SEND\", \"Republican\": \"T16SENR\"}),\n",
    "    Election(\"PRES12\", {\"Democratic\": \"PRES12D\", \"Republican\": \"PRES12R\"}),\n",
    "    Election(\"PRES16\", {\"Democratic\": \"T16PRESD\", \"Republican\": \"T16PRESR\"})\n",
    "]"
   ]
  },
  {
   "cell_type": "code",
   "execution_count": 40,
   "metadata": {},
   "outputs": [],
   "source": [
    "# Population updater, for computing how close to equality the district\n",
    "# populations are. \"TOTPOP\" is the population column from our shapefile.\n",
    "my_updaters = {\"population\": updaters.Tally(\"TOT_POP\", alias=\"population\")}\n",
    "\n",
    "# Election updaters, for computing election results using the vote totals\n",
    "# from our shapefile.\n",
    "election_updaters = {election.name: election for election in elections}\n",
    "my_updaters.update(election_updaters)"
   ]
  },
  {
   "cell_type": "code",
   "execution_count": 41,
   "metadata": {},
   "outputs": [],
   "source": [
    "initial_partition = GeographicPartition(\n",
    "    graph,\n",
    "    assignment=\"2011_PLA_1\",\n",
    "    updaters=my_updaters\n",
    ")"
   ]
  },
  {
   "cell_type": "code",
   "execution_count": 42,
   "metadata": {},
   "outputs": [],
   "source": [
    "# The ReCom proposal needs to know the ideal population for the districts so that\n",
    "# we can improve speed by bailing early on unbalanced partitions.\n",
    "\n",
    "ideal_population = sum(initial_partition[\"population\"].values()) / len(initial_partition)\n",
    "\n",
    "# We use functools.partial to bind the extra parameters (pop_col, pop_target, epsilon, node_repeats)\n",
    "# of the recom proposal.\n",
    "proposal = partial(\n",
    "    recom,\n",
    "    pop_col=\"TOT_POP\",\n",
    "    pop_target=ideal_population,\n",
    "    epsilon=0.02,\n",
    "    node_repeats=2\n",
    ")"
   ]
  },
  {
   "cell_type": "code",
   "execution_count": 43,
   "metadata": {},
   "outputs": [],
   "source": [
    "def cut_edges_length(p):\n",
    "  return len(p[\"cut_edges\"])\n",
    "\n",
    "compactness_bound = constraints.UpperBound(\n",
    "  cut_edges_length,\n",
    "  2*len(initial_partition[\"cut_edges\"])\n",
    ")\n",
    "\n",
    "pop_constraint = constraints.within_percent_of_ideal_population(initial_partition, 0.02)"
   ]
  },
  {
   "cell_type": "code",
   "execution_count": 44,
   "metadata": {},
   "outputs": [],
   "source": [
    "chain = MarkovChain(\n",
    "    proposal=proposal,\n",
    "    constraints=[\n",
    "        pop_constraint,\n",
    "        compactness_bound\n",
    "    ],\n",
    "    accept=accept.always_accept,\n",
    "    initial_state=initial_partition,\n",
    "    total_steps=1000\n",
    ")"
   ]
  },
  {
   "cell_type": "code",
   "execution_count": 46,
   "metadata": {},
   "outputs": [
    {
     "data": {
      "application/vnd.jupyter.widget-view+json": {
       "model_id": "7a161824b31749a0938c756b6c8a9681",
       "version_major": 2,
       "version_minor": 0
      },
      "text/plain": [
       "  0%|          | 0/1000 [00:00<?, ?it/s]"
      ]
     },
     "metadata": {},
     "output_type": "display_data"
    }
   ],
   "source": [
    "data = pandas.DataFrame(\n",
    "    sorted(partition[\"SEN12\"].percents(\"Democratic\"))\n",
    "    for partition in chain.with_progress_bar()\n",
    ")"
   ]
  },
  {
   "cell_type": "code",
   "execution_count": 47,
   "metadata": {},
   "outputs": [
    {
     "data": {
      "image/png": "[encoded data removed]",
      "text/plain": [
       "<Figure size 800x600 with 1 Axes>"
      ]
     },
     "metadata": {},
     "output_type": "display_data"
    }
   ],
   "source": [
    "fig, ax = plt.subplots(figsize=(8, 6))\n",
    "\n",
    "# Draw 50% line\n",
    "ax.axhline(0.5, color=\"#cccccc\")\n",
    "\n",
    "# Draw boxplot\n",
    "data.boxplot(ax=ax, positions=range(len(data.columns)))\n",
    "\n",
    "# Draw initial plan's Democratic vote %s (.iloc[0] gives the first row)\n",
    "plt.plot(data.iloc[0], \"ro\")\n",
    "\n",
    "# Annotate\n",
    "ax.set_title(\"Comparing the 2011 plan to an ensemble\")\n",
    "ax.set_ylabel(\"Democratic vote % (Senate 2012)\")\n",
    "ax.set_xlabel(\"Sorted districts\")\n",
    "ax.set_ylim(0, 1)\n",
    "ax.set_yticks([0, 0.25, 0.5, 0.75, 1])\n",
    "\n",
    "plt.show()"
   ]
  },
  {
   "cell_type": "code",
   "execution_count": 48,
   "metadata": {},
   "outputs": [
    {
     "ename": "KeyError",
     "evalue": "'perimeter'",
     "output_type": "error",
     "traceback": [
      "\u001b[0;31m---------------------------------------------------------------------------\u001b[0m",
      "\u001b[0;31mKeyError\u001b[0m                                  Traceback (most recent call last)",
      "Cell \u001b[0;32mIn[48], line 19\u001b[0m\n\u001b[1;32m     16\u001b[0m district_data \u001b[38;5;241m=\u001b[39m []\n\u001b[1;32m     18\u001b[0m \u001b[38;5;28;01mfor\u001b[39;00m i, partition \u001b[38;5;129;01min\u001b[39;00m \u001b[38;5;28menumerate\u001b[39m(recom_chain):\n\u001b[0;32m---> 19\u001b[0m     \u001b[38;5;28;01mfor\u001b[39;00m district_name \u001b[38;5;129;01min\u001b[39;00m \u001b[43mpartition\u001b[49m\u001b[38;5;241;43m.\u001b[39;49m\u001b[43mperimeter\u001b[49m\u001b[38;5;241m.\u001b[39mkeys():\n\u001b[1;32m     20\u001b[0m         population \u001b[38;5;241m=\u001b[39m partition\u001b[38;5;241m.\u001b[39mpopulation[district_name]\n\u001b[1;32m     21\u001b[0m         perimeter \u001b[38;5;241m=\u001b[39m partition\u001b[38;5;241m.\u001b[39mperimeter[district_name]\n",
      "File \u001b[0;32m/opt/homebrew/lib/python3.11/site-packages/gerrychain/partition/partition.py:157\u001b[0m, in \u001b[0;36mPartition.__getattr__\u001b[0;34m(self, key)\u001b[0m\n\u001b[1;32m    156\u001b[0m \u001b[38;5;28;01mdef\u001b[39;00m \u001b[38;5;21m__getattr__\u001b[39m(\u001b[38;5;28mself\u001b[39m, key):\n\u001b[0;32m--> 157\u001b[0m     \u001b[38;5;28;01mreturn\u001b[39;00m \u001b[38;5;28;43mself\u001b[39;49m\u001b[43m[\u001b[49m\u001b[43mkey\u001b[49m\u001b[43m]\u001b[49m\n",
      "File \u001b[0;32m/opt/homebrew/lib/python3.11/site-packages/gerrychain/partition/partition.py:153\u001b[0m, in \u001b[0;36mPartition.__getitem__\u001b[0;34m(self, key)\u001b[0m\n\u001b[1;32m    142\u001b[0m \u001b[38;5;250m\u001b[39m\u001b[38;5;124;03m\"\"\"\u001b[39;00m\n\u001b[1;32m    143\u001b[0m \u001b[38;5;124;03mAllows accessing the values of updaters computed for this\u001b[39;00m\n\u001b[1;32m    144\u001b[0m \u001b[38;5;124;03mPartition instance.\u001b[39;00m\n\u001b[0;32m   (...)\u001b[0m\n\u001b[1;32m    150\u001b[0m \u001b[38;5;124;03m:rtype: Any\u001b[39;00m\n\u001b[1;32m    151\u001b[0m \u001b[38;5;124;03m\"\"\"\u001b[39;00m\n\u001b[1;32m    152\u001b[0m \u001b[38;5;28;01mif\u001b[39;00m key \u001b[38;5;129;01mnot\u001b[39;00m \u001b[38;5;129;01min\u001b[39;00m \u001b[38;5;28mself\u001b[39m\u001b[38;5;241m.\u001b[39m_cache:\n\u001b[0;32m--> 153\u001b[0m     \u001b[38;5;28mself\u001b[39m\u001b[38;5;241m.\u001b[39m_cache[key] \u001b[38;5;241m=\u001b[39m \u001b[38;5;28;43mself\u001b[39;49m\u001b[38;5;241;43m.\u001b[39;49m\u001b[43mupdaters\u001b[49m\u001b[43m[\u001b[49m\u001b[43mkey\u001b[49m\u001b[43m]\u001b[49m(\u001b[38;5;28mself\u001b[39m)\n\u001b[1;32m    154\u001b[0m \u001b[38;5;28;01mreturn\u001b[39;00m \u001b[38;5;28mself\u001b[39m\u001b[38;5;241m.\u001b[39m_cache[key]\n",
      "\u001b[0;31mKeyError\u001b[0m: 'perimeter'"
     ]
    }
   ],
   "source": [
    "%matplotlib inline\n",
    "import matplotlib_inline.backend_inline\n",
    "matplotlib_inline.backend_inline.set_matplotlib_formats('png')\n",
    "\n",
    "import pandas as pd\n",
    "\n",
    "import matplotlib.cm as mcm\n",
    "import matplotlib.pyplot as plt\n",
    "import networkx as nx\n",
    "from PIL import Image\n",
    "import io\n",
    "import ipywidgets as widgets\n",
    "from IPython.display import display, clear_output\n",
    "\n",
    "frames = []\n",
    "district_data = []\n",
    "\n",
    "for i, partition in enumerate(recom_chain):\n",
    "    for district_name in partition.perimeter.keys():\n",
    "        population = partition.population[district_name]\n",
    "        perimeter = partition.perimeter[district_name]\n",
    "        area = partition.area[district_name]\n",
    "        district_data.append((i, district_name, population, perimeter, area))\n",
    "\n",
    "    buffer = io.BytesIO()\n",
    "    fig, ax = plt.subplots(figsize=(10,10))\n",
    "    partition.plot(ax=ax, cmap='tab20')\n",
    "    ax.set_xticks([])\n",
    "    ax.set_yticks([])\n",
    "    plt.savefig(buffer, format='png', bbox_inches='tight')\n",
    "    buffer.seek(0)\n",
    "    image = Image.open(buffer)\n",
    "    frames.append(image)\n",
    "    plt.close(fig)\n",
    "\n",
    "df = pd.DataFrame(\n",
    "    district_data,\n",
    "    columns=[\n",
    "        'step',\n",
    "        'district_name',\n",
    "        'population',\n",
    "        'perimeter',\n",
    "        'area'\n",
    "    ]\n",
    ")\n",
    "\n",
    "def show_frame(idx):\n",
    "    clear_output(wait=True)\n",
    "    display(frames[idx])\n",
    "\n",
    "slider = widgets.IntSlider(value=0, min=0, max=len(frames)-1, step=1, description='Frame:')\n",
    "slider.layout.width = '500px'\n",
    "widgets.interactive(show_frame, idx=slider)"
   ]
  },
  {
   "cell_type": "code",
   "execution_count": null,
   "metadata": {},
   "outputs": [],
   "source": []
  }
 ],
 "metadata": {
  "kernelspec": {
   "display_name": "Python 3",
   "language": "python",
   "name": "python3"
  },
  "language_info": {
   "codemirror_mode": {
    "name": "ipython",
    "version": 3
   },
   "file_extension": ".py",
   "mimetype": "text/x-python",
   "name": "python",
   "nbconvert_exporter": "python",
   "pygments_lexer": "ipython3",
   "version": "3.11.4"
  }
 },
 "nbformat": 4,
 "nbformat_minor": 2
}
